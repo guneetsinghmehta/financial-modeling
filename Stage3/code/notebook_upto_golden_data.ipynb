{
 "cells": [
  {
   "cell_type": "code",
   "execution_count": 20,
   "metadata": {
    "collapsed": false
   },
   "outputs": [],
   "source": [
    "import py_entitymatching as em\n",
    "import os, sys\n",
    "import pandas as pd"
   ]
  },
  {
   "cell_type": "code",
   "execution_count": 21,
   "metadata": {
    "collapsed": false
   },
   "outputs": [],
   "source": [
    "#datasets directory\n",
    "#datasets_dir = \"/home/zeus/data_science/datasets/datasets\"\n",
    "datasets_dir = \"/Users/nehamittal/Downloads/datasets\"\n",
    "#input tables\n",
    "path_songs = datasets_dir + \"/\" +'songs.csv'\n",
    "path_tracks= datasets_dir+\"/\"+\"tracks.csv\""
   ]
  },
  {
   "cell_type": "code",
   "execution_count": 22,
   "metadata": {
    "collapsed": false,
    "scrolled": false
   },
   "outputs": [],
   "source": [
    "songs = em.read_csv_metadata(path_songs, key='id',low_memory=False)\n",
    "tracks = em.read_csv_metadata(path_tracks, key='id',low_memory=False)\n",
    "#schema of both songs and tracks- id,title,artist,year"
   ]
  },
  {
   "cell_type": "code",
   "execution_count": 137,
   "metadata": {
    "collapsed": false
   },
   "outputs": [
    {
     "data": {
      "text/plain": [
       "(16029, 3000)"
      ]
     },
     "execution_count": 137,
     "metadata": {},
     "output_type": "execute_result"
    }
   ],
   "source": [
    "#Downsample\n",
    "sample_songs,sample_tracks=em.down_sample(songs,tracks,size=3000,y_param=6,show_progress=False)\n",
    "#len(sample_songs),len(sample_tracks)\n"
   ]
  },
  {
   "cell_type": "code",
   "execution_count": 139,
   "metadata": {
    "collapsed": false
   },
   "outputs": [],
   "source": [
    "block_f = em.get_features_for_blocking(sample_songs, sample_tracks)\n",
    "#block_f"
   ]
  },
  {
   "cell_type": "code",
   "execution_count": 143,
   "metadata": {
    "collapsed": false
   },
   "outputs": [],
   "source": [
    "ob = em.OverlapBlocker()\n",
    "new_stop_word_list=[\"In\",\"A\",\"And\",\"Are\",\"As\",\"At\",\"Be\",\"By\",\"For\",\"From\",\"Has\",\"He\",\"In\",\"Is\",\"It\",\"Its\",\"On\",\"That\",\"The\",\"To\",\"Was\",\"Were\",\"Will\",\"With\",\"In\",\"Theme\",\"theme\"]\n",
    "for new_stop_word in new_stop_word_list:\n",
    "    ob.stop_words.append(new_stop_word)"
   ]
  },
  {
   "cell_type": "code",
   "execution_count": 144,
   "metadata": {
    "collapsed": false
   },
   "outputs": [
    {
     "name": "stderr",
     "output_type": "stream",
     "text": [
      "0%                          100%\n",
      "[##############################] | ETA: 00:00:17 | ETA: 00:00:15 | ETA: 00:00:15 | ETA: 00:00:14 | ETA: 00:00:14 | ETA: 00:00:13 | ETA: 00:00:13 | ETA: 00:00:12 | ETA: 00:00:12 | ETA: 00:00:11 | ETA: 00:00:11 | ETA: 00:00:10 | ETA: 00:00:09 | ETA: 00:00:09 | ETA: 00:00:08 | ETA: 00:00:08 | ETA: 00:00:07 | ETA: 00:00:06 | ETA: 00:00:06 | ETA: 00:00:05 | ETA: 00:00:05 | ETA: 00:00:04 | ETA: 00:00:04 | ETA: 00:00:03 | ETA: 00:00:02 | ETA: 00:00:02 | ETA: 00:00:01 | ETA: 00:00:01 | ETA: 00:00:00 | ETA: 00:00:00 | ETA: 00:00:00\n",
      "Total time elapsed: 00:00:17\n"
     ]
    }
   ],
   "source": [
    "tuples_set = ob.block_tables(sample_songs, sample_tracks, 'title','title',\n",
    "                    word_level=True, overlap_size=1,\n",
    "                    allow_missing=True,\n",
    "                    rem_stop_words=True,\n",
    "                    l_output_attrs=['title', 'artist', 'year'], \n",
    "                    r_output_attrs=['title', 'artist', 'year'],\n",
    "                    show_progress=False)\n",
    "tuples_set=ob.block_candset(tuples_set,'artist','artist',\n",
    "                            rem_stop_words=True,\n",
    "                            word_level=True,\n",
    "                            overlap_size=1,\n",
    "                            show_progress=False)"
   ]
  },
  {
   "cell_type": "code",
   "execution_count": 145,
   "metadata": {
    "collapsed": false
   },
   "outputs": [],
   "source": [
    "block_f=em.get_features_for_blocking(sample_songs,sample_tracks)\n",
    "#block_f"
   ]
  },
  {
   "cell_type": "code",
   "execution_count": 146,
   "metadata": {
    "collapsed": false,
    "scrolled": true
   },
   "outputs": [
    {
     "name": "stderr",
     "output_type": "stream",
     "text": [
      "0%                          100%\n",
      "[                              ]0%                          100%\n",
      "[##############################] | ETA: 00:00:02 | ETA: 00:00:02 | ETA: 00:00:02 | ETA: 00:00:01 | ETA: 00:00:01 | ETA: 00:00:01 | ETA: 00:00:01 | ETA: 00:00:01 | ETA: 00:00:01 | ETA: 00:00:01 | ETA: 00:00:01 | ETA: 00:00:01 | ETA: 00:00:01 | ETA: 00:00:01 | ETA: 00:00:00 | ETA: 00:00:00 | ETA: 00:00:00 | ETA: 00:00:00 | ETA: 00:00:00 | ETA: 00:00:00 | ETA: 00:00:00 | ETA: 00:00:00 | ETA: 00:00:00 | ETA: 00:00:00 | ETA: 00:00:00 | ETA: 00:00:00 | ETA: 00:00:00 | ETA: 00:00:00 | ETA: 00:00:00 | ETA: 00:00:00 | ETA: 00:00:00\n",
      "Total time elapsed: 00:00:01\n"
     ]
    }
   ],
   "source": [
    "rb = em.RuleBasedBlocker()\n",
    "rb.add_rule(['title_title_lev_dist(ltuple, rtuple) > 15'],block_f)\n",
    "rb.add_rule(['artist_artist_lev_dist(ltuple, rtuple) > 15'],block_f)\n",
    "tuples_set=rb.block_candset(tuples_set)\n",
    "tuples_set.to_csv(datasets_dir + \"/\" +\"tuples_set_after_blocking.csv\", encoding='utf-8')"
   ]
  },
  {
   "cell_type": "code",
   "execution_count": 147,
   "metadata": {
    "collapsed": false
   },
   "outputs": [],
   "source": [
    "S = em.sample_table(tuples_set, 120)\n",
    "S.to_csv(datasets_dir + \"/\" +\"sampled.csv\", encoding='utf-8')"
   ]
  }
 ],
 "metadata": {
  "kernelspec": {
   "display_name": "Python 2",
   "language": "python",
   "name": "python2"
  },
  "language_info": {
   "codemirror_mode": {
    "name": "ipython",
    "version": 2
   },
   "file_extension": ".py",
   "mimetype": "text/x-python",
   "name": "python",
   "nbconvert_exporter": "python",
   "pygments_lexer": "ipython2",
   "version": "2.7.13"
  }
 },
 "nbformat": 4,
 "nbformat_minor": 2
}
